{
 "cells": [
  {
   "cell_type": "markdown",
   "id": "3ac8220a-161e-4f84-9161-6e5a4d666a03",
   "metadata": {},
   "source": [
    "# Reduce Dimensions of Data Base\n",
    "---"
   ]
  },
  {
   "cell_type": "markdown",
   "id": "581ae7e3-d4c3-4219-97fd-2deee8530e47",
   "metadata": {},
   "source": [
    "If the search notebook runs on **binder** there is a 2GB limit, which loading the full database breaks. This notebook reduces the size of the database by removing columns that may not be needed. The code can be modified and rerun to alter the selection of variables that are retained. Because of the memory issues, this notebook will likely fail if run in binder."
   ]
  },
  {
   "cell_type": "code",
   "execution_count": 2,
   "id": "a0025d98-766e-4c43-944d-1629ad4b1444",
   "metadata": {},
   "outputs": [],
   "source": [
    "import geopandas as gpd"
   ]
  },
  {
   "cell_type": "markdown",
   "id": "f26769a0-383f-4f0c-a373-fc2d48d440a5",
   "metadata": {},
   "source": [
    "Read the original."
   ]
  },
  {
   "cell_type": "code",
   "execution_count": 3,
   "id": "baa3cffa-6130-40d5-baa5-38a6ec9578cd",
   "metadata": {},
   "outputs": [
    {
     "data": {
      "text/html": [
       "<div>\n",
       "<style scoped>\n",
       "    .dataframe tbody tr th:only-of-type {\n",
       "        vertical-align: middle;\n",
       "    }\n",
       "\n",
       "    .dataframe tbody tr th {\n",
       "        vertical-align: top;\n",
       "    }\n",
       "\n",
       "    .dataframe thead th {\n",
       "        text-align: right;\n",
       "    }\n",
       "</style>\n",
       "<table border=\"1\" class=\"dataframe\">\n",
       "  <thead>\n",
       "    <tr style=\"text-align: right;\">\n",
       "      <th></th>\n",
       "      <th>id</th>\n",
       "      <th>mission</th>\n",
       "      <th>category</th>\n",
       "      <th>quality</th>\n",
       "      <th>img_mod</th>\n",
       "      <th>inc_min</th>\n",
       "      <th>inc_max</th>\n",
       "      <th>abs_orbit</th>\n",
       "      <th>rel_orbit</th>\n",
       "      <th>looking_di</th>\n",
       "      <th>...</th>\n",
       "      <th>start_time</th>\n",
       "      <th>cat_time</th>\n",
       "      <th>resolution</th>\n",
       "      <th>datastack</th>\n",
       "      <th>resolutio0</th>\n",
       "      <th>resolutio1</th>\n",
       "      <th>browseimag</th>\n",
       "      <th>start_tim0</th>\n",
       "      <th>stop_time_</th>\n",
       "      <th>geometry</th>\n",
       "    </tr>\n",
       "  </thead>\n",
       "  <tbody>\n",
       "    <tr>\n",
       "      <th>0</th>\n",
       "      <td>TSX-1_2013-12-21T11_59_5203165</td>\n",
       "      <td>TSX-1</td>\n",
       "      <td>0</td>\n",
       "      <td>AUTO_APPROVED</td>\n",
       "      <td>Stripmap (SM)</td>\n",
       "      <td>33.010539</td>\n",
       "      <td>34.500304</td>\n",
       "      <td>36154</td>\n",
       "      <td>82</td>\n",
       "      <td>R</td>\n",
       "      <td>...</td>\n",
       "      <td>2013-12-21</td>\n",
       "      <td>2013-12-22</td>\n",
       "      <td>Approximated Resolution Range: 6.6 m</td>\n",
       "      <td>76.0</td>\n",
       "      <td>6.6</td>\n",
       "      <td>6.6</td>\n",
       "      <td>https://terrasar-x-archive.terrasar.com/downlo...</td>\n",
       "      <td>2013-12-21</td>\n",
       "      <td>2013-12-21</td>\n",
       "      <td>POLYGON ((-88.97313 29.28657, -88.80256 29.259...</td>\n",
       "    </tr>\n",
       "  </tbody>\n",
       "</table>\n",
       "<p>1 rows × 28 columns</p>\n",
       "</div>"
      ],
      "text/plain": [
       "                               id mission  category        quality  \\\n",
       "0  TSX-1_2013-12-21T11_59_5203165   TSX-1         0  AUTO_APPROVED   \n",
       "\n",
       "         img_mod    inc_min    inc_max  abs_orbit  rel_orbit looking_di  ...  \\\n",
       "0  Stripmap (SM)  33.010539  34.500304      36154         82          R  ...   \n",
       "\n",
       "   start_time    cat_time                            resolution datastack  \\\n",
       "0  2013-12-21  2013-12-22  Approximated Resolution Range: 6.6 m      76.0   \n",
       "\n",
       "   resolutio0 resolutio1                                         browseimag  \\\n",
       "0         6.6        6.6  https://terrasar-x-archive.terrasar.com/downlo...   \n",
       "\n",
       "   start_tim0  stop_time_                                           geometry  \n",
       "0  2013-12-21  2013-12-21  POLYGON ((-88.97313 29.28657, -88.80256 29.259...  \n",
       "\n",
       "[1 rows x 28 columns]"
      ]
     },
     "execution_count": 3,
     "metadata": {},
     "output_type": "execute_result"
    }
   ],
   "source": [
    "tsxDB = gpd.read_file('zip://cat0Polygon.zip')\n",
    "tsxDB.head(1)"
   ]
  },
  {
   "cell_type": "code",
   "execution_count": 10,
   "id": "6c4a5adc-9e85-4a9d-bf95-97e3b1511873",
   "metadata": {},
   "outputs": [
    {
     "name": "stdout",
     "output_type": "stream",
     "text": [
      "id TSX-1_2013-12-21T11_59_5203165\n",
      "mission TSX-1\n",
      "category 0\n",
      "quality AUTO_APPROVED\n",
      "img_mod Stripmap (SM)\n",
      "inc_min 33.0105389957187\n",
      "inc_max 34.5003042640164\n",
      "abs_orbit 36154\n",
      "rel_orbit 82\n",
      "looking_di R\n",
      "pol_mod Dual Polarisation (D)\n",
      "pol_chan HH/VV\n",
      "beam_id stripFar_008\n",
      "path_dir descending\n",
      "bandwidth 150\n",
      "ant_mod SRA\n",
      "center_tim 2013-12-21\n",
      "stop_time 2013-12-21\n",
      "start_time 2013-12-21\n",
      "cat_time 2013-12-22\n",
      "resolution Approximated Resolution Range: 6.6 m\n",
      "datastack 76.0\n",
      "resolutio0 6.6\n",
      "resolutio1 6.6\n",
      "browseimag https://terrasar-x-archive.terrasar.com/download/quicklook.php?id=TSX-1_2013-12-21T11_59_5203165\n",
      "start_tim0 2013-12-21\n",
      "stop_time_ 2013-12-21\n",
      "geometry POLYGON ((-88.97313009921351 29.2865692855277, -88.8025643967636 29.259627414864, -88.9167589916966 28.7104047125021, -89.08639889917529 28.7373625150712, -88.97313009921351 29.2865692855277))\n"
     ]
    }
   ],
   "source": [
    "for col in tsxDB:\n",
    "    print(col, tsxDB[col][0])"
   ]
  },
  {
   "cell_type": "code",
   "execution_count": 13,
   "id": "b97db514-1712-45f8-a762-787603dac01d",
   "metadata": {},
   "outputs": [
    {
     "data": {
      "text/html": [
       "<div>\n",
       "<style scoped>\n",
       "    .dataframe tbody tr th:only-of-type {\n",
       "        vertical-align: middle;\n",
       "    }\n",
       "\n",
       "    .dataframe tbody tr th {\n",
       "        vertical-align: top;\n",
       "    }\n",
       "\n",
       "    .dataframe thead th {\n",
       "        text-align: right;\n",
       "    }\n",
       "</style>\n",
       "<table border=\"1\" class=\"dataframe\">\n",
       "  <thead>\n",
       "    <tr style=\"text-align: right;\">\n",
       "      <th></th>\n",
       "      <th>id</th>\n",
       "      <th>mission</th>\n",
       "      <th>img_mod</th>\n",
       "      <th>inc_min</th>\n",
       "      <th>inc_max</th>\n",
       "      <th>abs_orbit</th>\n",
       "      <th>rel_orbit</th>\n",
       "      <th>looking_di</th>\n",
       "      <th>pol_mod</th>\n",
       "      <th>pol_chan</th>\n",
       "      <th>bandwidth</th>\n",
       "      <th>path_dir</th>\n",
       "      <th>start_time</th>\n",
       "      <th>geometry</th>\n",
       "    </tr>\n",
       "  </thead>\n",
       "  <tbody>\n",
       "    <tr>\n",
       "      <th>0</th>\n",
       "      <td>TSX-1_2013-12-21T11_59_5203165</td>\n",
       "      <td>TSX-1</td>\n",
       "      <td>Stripmap (SM)</td>\n",
       "      <td>33.010539</td>\n",
       "      <td>34.500304</td>\n",
       "      <td>36154</td>\n",
       "      <td>82</td>\n",
       "      <td>R</td>\n",
       "      <td>Dual Polarisation (D)</td>\n",
       "      <td>HH/VV</td>\n",
       "      <td>150</td>\n",
       "      <td>descending</td>\n",
       "      <td>2013-12-21</td>\n",
       "      <td>POLYGON ((-88.97313 29.28657, -88.80256 29.259...</td>\n",
       "    </tr>\n",
       "  </tbody>\n",
       "</table>\n",
       "</div>"
      ],
      "text/plain": [
       "                               id mission        img_mod    inc_min  \\\n",
       "0  TSX-1_2013-12-21T11_59_5203165   TSX-1  Stripmap (SM)  33.010539   \n",
       "\n",
       "     inc_max  abs_orbit  rel_orbit looking_di                pol_mod pol_chan  \\\n",
       "0  34.500304      36154         82          R  Dual Polarisation (D)    HH/VV   \n",
       "\n",
       "   bandwidth    path_dir  start_time  \\\n",
       "0        150  descending  2013-12-21   \n",
       "\n",
       "                                            geometry  \n",
       "0  POLYGON ((-88.97313 29.28657, -88.80256 29.259...  "
      ]
     },
     "execution_count": 13,
     "metadata": {},
     "output_type": "execute_result"
    }
   ],
   "source": [
    "shapeFile = 'cat0Polygon.Reduced'\n",
    "tsxDBreduced = tsxDB[['id', 'mission', 'img_mod', 'inc_min', 'inc_max', 'abs_orbit', 'rel_orbit', 'looking_di', 'pol_mod', 'pol_chan', 'bandwidth', 'path_dir' ,'start_time', 'geometry']]\n",
    "tsxDBreduced.to_file(f'{shapeFile}.shp')\n",
    "tsxDBreduced.head(1)"
   ]
  },
  {
   "cell_type": "code",
   "execution_count": 14,
   "id": "8d17e266-48ac-47da-a697-982790187f06",
   "metadata": {},
   "outputs": [
    {
     "name": "stdout",
     "output_type": "stream",
     "text": [
      "updating: cat0Polygon.Reduced.shp (deflated 41%)\n",
      "updating: cat0Polygon.Reduced.cpg (stored 0%)\n",
      "updating: cat0Polygon.Reduced.prj (deflated 17%)\n",
      "updating: cat0Polygon.Reduced.dbf (deflated 93%)\n",
      "updating: cat0Polygon.Reduced.shx (deflated 63%)\n"
     ]
    }
   ],
   "source": [
    "!zip {shapeFile}.zip {shapeFile}.shp {shapeFile}.cpg {shapeFile}.prj {shapeFile}.dbf {shapeFile}.shx\n",
    "!rm {shapeFile}.shp {shapeFile}.cpg {shapeFile}.prj {shapeFile}.dbf {shapeFile}.shx"
   ]
  },
  {
   "cell_type": "code",
   "execution_count": null,
   "id": "6cc9d4a9-6745-4c7b-86b3-ae81aaa666a6",
   "metadata": {},
   "outputs": [],
   "source": []
  }
 ],
 "metadata": {
  "kernelspec": {
   "display_name": "Python 3",
   "language": "python",
   "name": "python3"
  },
  "language_info": {
   "codemirror_mode": {
    "name": "ipython",
    "version": 3
   },
   "file_extension": ".py",
   "mimetype": "text/x-python",
   "name": "python",
   "nbconvert_exporter": "python",
   "pygments_lexer": "ipython3",
   "version": "3.7.9"
  }
 },
 "nbformat": 4,
 "nbformat_minor": 5
}
