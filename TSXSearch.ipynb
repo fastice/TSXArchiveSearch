{
 "cells": [
  {
   "cell_type": "markdown",
   "id": "4ae956b8-27e4-4b53-abb8-2d34819dac2f",
   "metadata": {},
   "source": [
    "# Search TSX Shape File Catalog to Find Frames that Contain a Point\n",
    "---"
   ]
  },
  {
   "cell_type": "markdown",
   "id": "905411d3-7d05-430d-8d11-6b171a60d69c",
   "metadata": {},
   "source": [
    "This notebook lets the user search of all frames tha contain a point, and then further narrow the selection based on attributes like date, mode, track, etc. The results are saved in a shape file. "
   ]
  },
  {
   "cell_type": "markdown",
   "id": "16f89a86-e22c-4464-91fb-c2f03cf024b0",
   "metadata": {},
   "source": [
    "The procedure will work best if you first identify the lat/lon coordinates for your area of interest and then verify that data exist for that point either using the legacy tool or viewing the shape file arcgis or qgis."
   ]
  },
  {
   "cell_type": "markdown",
   "id": "98fd596b-5439-4b59-8ed7-1b0ca34e3351",
   "metadata": {},
   "source": [
    "## Python Setup Stuff"
   ]
  },
  {
   "cell_type": "code",
   "execution_count": null,
   "id": "a10eca14-8e4a-4999-9e30-08837a29bf0e",
   "metadata": {},
   "outputs": [],
   "source": [
    "import geopandas as gpd\n",
    "from datetime import datetime\n",
    "import numpy as np\n",
    "from shapely.geometry import Point, Polygon\n",
    "from shapely.ops import transform\n",
    "import pyproj\n",
    "import contextily as ctx"
   ]
  },
  {
   "cell_type": "markdown",
   "id": "0f906850-b044-4d59-a98d-bf02c011c1e6",
   "metadata": {},
   "source": [
    "Setup transform for plotting points in map coordinates used by contextily."
   ]
  },
  {
   "cell_type": "code",
   "execution_count": null,
   "id": "9261c016-e344-4ff6-b28b-a8a73f475048",
   "metadata": {},
   "outputs": [],
   "source": [
    "mapProjection = pyproj.Transformer.from_crs(pyproj.CRS('EPSG:4326'), pyproj.CRS('EPSG:3857')).transform\n",
    "invMapProjection = pyproj.Transformer.from_crs(pyproj.CRS('EPSG:3857'), pyproj.CRS('EPSG:4326')).transform"
   ]
  },
  {
   "cell_type": "code",
   "execution_count": null,
   "id": "ffc6e746-637a-4986-9a11-5199b184dec9",
   "metadata": {},
   "outputs": [],
   "source": [
    "def formatDate(dateString):\n",
    "    ''' Convert date string for a column to date time values'''\n",
    "    return np.array([datetime.strptime(x,'%Y-%m-%d') for x in dateString])"
   ]
  },
  {
   "cell_type": "code",
   "execution_count": null,
   "id": "2e69f375-b97d-4a74-9e9e-d5826719d3ba",
   "metadata": {},
   "outputs": [],
   "source": [
    "def filterDate(myDB, firstDate, lastDate):\n",
    "    ''' Filter tsxDB by date range '''\n",
    "    dates = formatDate(myDB['start_time']) \n",
    "    return myDB[np.logical_and(dates >= firstDate, dates <= lastDate)].sort_values(by='start_time')"
   ]
  },
  {
   "cell_type": "code",
   "execution_count": null,
   "id": "f08e0fd7-d124-4ec7-9553-152471e14af2",
   "metadata": {},
   "outputs": [],
   "source": [
    "def searchCircle(lat, lon, radius):\n",
    "    pxy = Point(transform(mapProjection, Point(lat, lon)).coords[:][0])\n",
    "    #pxy = Point(xpt, ypt)\n",
    "    xyCircle = pxy.buffer(radius * 1000)\n",
    "    llCircle = transform(invMapProjection, xyCircle)\n",
    "    # Swap lat/lon for different convention used by pandas\n",
    "    llCircle = Polygon([(x[1], x[0]) for x in llCircle.exterior.coords[:]])\n",
    "    return llCircle, xyCircle\n",
    "\n",
    "def filterRadius(myDB, lat, lon, radius):\n",
    "    ''' Find tracks that contain a point'''\n",
    "    llCircle, _ = searchCircle(lat, lon, max(radius, 1))\n",
    "    return myDB[myDB['geometry'].intersects(llCircle)]"
   ]
  },
  {
   "cell_type": "code",
   "execution_count": null,
   "id": "c8b5eb08-3046-4afe-92f0-5f219ad9f822",
   "metadata": {},
   "outputs": [],
   "source": [
    "def filterProperties(myDB, properties):\n",
    "    ''' Filter on a dictionary of properties '''\n",
    "    result = myDB\n",
    "    for key in properties:\n",
    "        if properties[key] is not None:\n",
    "            result = result[result[key] == properties[key]]\n",
    "    return result"
   ]
  },
  {
   "cell_type": "code",
   "execution_count": null,
   "id": "bebf4a1e-a529-4cf8-a36d-58498ba904cc",
   "metadata": {},
   "outputs": [],
   "source": [
    "def filterIncidence(myDB, incMin, incMax):\n",
    "    ''' Filter by incidence angle range'''\n",
    "    return myDB[np.logical_and(myDB['inc_min'] >= incMin, myDB['inc_max'] <= incMax)]"
   ]
  },
  {
   "cell_type": "code",
   "execution_count": null,
   "id": "20d99bd5-028d-416d-b9b9-36cdd374df2c",
   "metadata": {},
   "outputs": [],
   "source": [
    "def plotSearch(myResult, lat, lon, radius, zoom=10, **keywords):\n",
    "    ''' Plot the search results '''\n",
    "    ax = myResult.to_crs(epsg=3857).plot(edgecolor='k', facecolor=\"none\", **keywords)\n",
    "    ax.set_aspect('equal')\n",
    "    ctx.add_basemap(ax, zoom=zoom)\n",
    "    _, xyCircle = searchCircle(lat, lon, max(radius, 3))\n",
    "    x, y = xyCircle.exterior.xy\n",
    "    ax.plot(x, y, 'r*', linewidth=2, color='r')\n",
    "    return ax"
   ]
  },
  {
   "cell_type": "markdown",
   "id": "2b9c8090-7cb7-4293-a016-0dbd5ad4786f",
   "metadata": {},
   "source": [
    "## Read and Filter TSX Database"
   ]
  },
  {
   "cell_type": "markdown",
   "id": "bb0cf0c1-5fd3-4da9-a504-6ffff18ee29c",
   "metadata": {},
   "source": [
    "The following steps will read the catalog, apply various filters, and plot intermediate and final results."
   ]
  },
  {
   "cell_type": "markdown",
   "id": "d37e598d-4fbb-45a1-95d0-81b03c2f1780",
   "metadata": {},
   "source": [
    "### Read Catalog"
   ]
  },
  {
   "cell_type": "markdown",
   "id": "f1763e40-5e0a-44c7-a479-7d8b4ca11ef8",
   "metadata": {},
   "source": [
    "This step reads the catlog and displays the first line to show the column headings. For running within **binder** memory limits, this call loads **cat0Polygon.Reduced.zip**, which has a reduced set of columns. If running on a local machine and the additional data are needed, load **cat0Polygon.zip**. Note this will slow the read so only use if needed."
   ]
  },
  {
   "cell_type": "code",
   "execution_count": null,
   "id": "fcb6e2ce-c169-4b60-90c5-84223d376e2e",
   "metadata": {},
   "outputs": [],
   "source": [
    "tsxDB = gpd.read_file('zip://cat0Polygon.Reduced.zip') \n",
    "tsxDB.head(1)"
   ]
  },
  {
   "cell_type": "markdown",
   "id": "2674ae00-d525-43f7-9ec2-4a352660e6ac",
   "metadata": {},
   "source": [
    "### Define search params."
   ]
  },
  {
   "cell_type": "markdown",
   "id": "f0d9609f-0509-4409-b457-b591b56d1b6b",
   "metadata": {},
   "source": [
    "Everything needed to define the search is specified here. The notebook may need to be run once or twice to pick the final values based on the intermediate results. For example, the relative orbit should be picked after the first step to narrow by location and time. Likewise the incidence angle after seeing the range of incidence angles."
   ]
  },
  {
   "cell_type": "code",
   "execution_count": null,
   "id": "ac31b737-d0ca-4589-bf01-bb3e8faf7e5d",
   "metadata": {},
   "outputs": [],
   "source": [
    "lat, lon = 58.587, -133.969  # Find frames that contain this point\n",
    "searchPoint = Point(lat, lon)\n",
    "radius = 0  # Change set to a value > 0 for non-point search\n",
    "firstDate, lastDate = datetime(2009,1,1), datetime(2015,12,31)  # Find frames in this date range\n",
    "properties = {'img_mod': 'Stripmap (SM)',  # Imaging mode\n",
    "              'looking_di': 'R',   # Lookdir, almost always R for right\n",
    "              'path_dir': 'ascending',  # ascending or descending\n",
    "              'rel_orbit': 137}     # relative orbit\n",
    "incidenceAngleMin = 34.\n",
    "incidenceAngleMax = 40. \n",
    "dTthresh = 22  # Maximum temporal spacing for insar pairs - change to None if not applicable\n",
    "resultsFile = 'TakuGlacier.137.shp'  # The name of the file with results (end with .shp for shape file and .csv for csv)"
   ]
  },
  {
   "cell_type": "markdown",
   "id": "5062f8f6-1a76-4355-9037-b1ab4de9e271",
   "metadata": {},
   "source": [
    "Check to make sure parameters specified are valid."
   ]
  },
  {
   "cell_type": "code",
   "execution_count": null,
   "id": "9b76ba78-2082-4352-8cd9-806f2560b663",
   "metadata": {},
   "outputs": [],
   "source": [
    "for key in properties:\n",
    "    if key not in tsxDB.columns:\n",
    "        print(f'Property {key} is not valid')"
   ]
  },
  {
   "cell_type": "markdown",
   "id": "5398b49e-7674-4702-93d7-5e4f575ed279",
   "metadata": {},
   "source": [
    "### Narrow By Location and Time"
   ]
  },
  {
   "cell_type": "markdown",
   "id": "5b780e2f-9cf3-43be-b59e-2f5c3b0260e5",
   "metadata": {},
   "source": [
    "For this stage, the data based is narrowed by time and location so that all tracks over the desired point and during the desired interval are displayed. If this takes too long to run, try reducing zoom value for *plotSearch*. Subsequent steps should be faster."
   ]
  },
  {
   "cell_type": "code",
   "execution_count": null,
   "id": "8cc4af1a-b39e-4106-8fe5-cbb1c46d0e4d",
   "metadata": {},
   "outputs": [],
   "source": [
    "myResultSpace = filterRadius(tsxDB, lat, lon, radius)  # Narrow by Location\n",
    "myResultTime = filterDate(myResultSpace, firstDate, lastDate)  # Narrow by date range\n",
    "plotSearch(myResultTime, lat, lon, radius, zoom=8, column='rel_orbit', figsize=(8,12), legend=True, categorical=True)\n",
    "print(f'Search returned {myResultTime.shape[0]} products')"
   ]
  },
  {
   "cell_type": "markdown",
   "id": "1ac0098b-0941-43cc-9d63-f12aa3be277a",
   "metadata": {},
   "source": [
    "### Narrow Futher by Properties"
   ]
  },
  {
   "cell_type": "markdown",
   "id": "d3d42e97-536d-461c-9026-ec325dd7c959",
   "metadata": {},
   "source": [
    "This further narrows the search using a dictionary of properties (e.g., relative orbit, ascending or descending, mode). The remaining results are listed by incidence angle."
   ]
  },
  {
   "cell_type": "code",
   "execution_count": null,
   "id": "c54627d0-fc9d-45ea-acf2-1e8f7e77ccb1",
   "metadata": {},
   "outputs": [],
   "source": [
    "myResultProperties = filterProperties(myResultTime, properties)  # Narrow by properties\n",
    "myResultProperties['inc_max'] = myResultProperties['inc_max'].round(1)  # Round the result to avoid to many legend entries\n",
    "plotSearch(myResultProperties, lat, lon, radius, column='inc_max', figsize=(8,12), legend=True, categorical=True)\n",
    "print(f'Search returned {myResultProperties.shape[0]} products')"
   ]
  },
  {
   "cell_type": "markdown",
   "id": "fe3a5a3c-c8fb-46ce-8fd5-968a7c7b9bab",
   "metadata": {},
   "source": [
    "### Reduce by Incidence Angle"
   ]
  },
  {
   "cell_type": "code",
   "execution_count": null,
   "id": "66d858b1-cdbd-4c1f-84a7-0ccbd99b8764",
   "metadata": {},
   "outputs": [],
   "source": [
    "myResultAngle = filterIncidence(myResultProperties, 34, 40)\n",
    "plotSearch(myResultAngle, lat, lon, radius, column='inc_max', figsize=(8,12), legend=True, categorical=True)\n",
    "print(f'Search returned {myResultAngle.shape[0]} products')"
   ]
  },
  {
   "cell_type": "markdown",
   "id": "172db377-f885-4c3f-b6a7-150848ad95ce",
   "metadata": {},
   "source": [
    "### Filter for Interferometric Pairs"
   ]
  },
  {
   "cell_type": "markdown",
   "id": "dfe16c82-a14c-44de-8f06-a6c9bc5de00f",
   "metadata": {},
   "source": [
    "This step will eliminate images that don't belong to a pair with seperation of dTthresh days or less. If dThresh=None, it will save the result as final with no change."
   ]
  },
  {
   "cell_type": "code",
   "execution_count": null,
   "id": "d819acea-7fe2-4870-88d0-4062a6cefdbd",
   "metadata": {},
   "outputs": [],
   "source": [
    "if dTthresh is not None:\n",
    "    dates = formatDate(myResultAngle['start_time'])\n",
    "    forwards = [ (dates[i+1] - dates[i]).days <= dTthresh for i in range(0,len(dates)-1)] + [True] # check forward in time pairs\n",
    "    backwards = [True] + [ (dates[i] - dates[i-1]).days <= dTthresh for i in range(1,len(dates))] # check backwards in time pairs\n",
    "    keep = np.logical_or(forwards, backwards)  #  Union of all valid pairs.\n",
    "    myResultFinal = myResultAngle[keep]  # Remove invalid images\n",
    "else:\n",
    "    myResultFinal = myResultAngle  # No change\n",
    "plotSearch(myResultFinal, lat, lon, radius, column='inc_max', figsize=(8,12), legend=True, categorical=True)\n",
    "print(f'Search returned {myResultFinal.shape[0]} products')"
   ]
  },
  {
   "cell_type": "markdown",
   "id": "dc2925fc-9f4e-4578-8761-5098d67b387b",
   "metadata": {},
   "source": [
    "## Summarize and Save Results"
   ]
  },
  {
   "cell_type": "markdown",
   "id": "876aad3d-b51d-45f6-9e70-66e89a2fd396",
   "metadata": {},
   "source": [
    "List final results."
   ]
  },
  {
   "cell_type": "code",
   "execution_count": null,
   "id": "6907988c-a682-45c2-abfc-9135d5a51f32",
   "metadata": {},
   "outputs": [],
   "source": [
    "myResultFinal[['id', 'mission', 'abs_orbit', 'rel_orbit', 'start_time']].sort_values(by='start_time')"
   ]
  },
  {
   "cell_type": "markdown",
   "id": "ef326a5c-6b19-4765-86f4-973b7a4f6cf5",
   "metadata": {},
   "source": [
    "Write the result to a csv or shapefile."
   ]
  },
  {
   "cell_type": "code",
   "execution_count": null,
   "id": "aaace1b5-3006-4db0-a53d-a69c62422ca3",
   "metadata": {},
   "outputs": [],
   "source": [
    "if resultsFile.endswith('csv'):\n",
    "    myResultFinal.to_csv(resultsFile)\n",
    "else:\n",
    "    myResultFinal.to_file(resultsFile)"
   ]
  },
  {
   "cell_type": "code",
   "execution_count": null,
   "id": "5a413bac-fc83-4734-b84c-24660153415c",
   "metadata": {},
   "outputs": [],
   "source": []
  },
  {
   "cell_type": "code",
   "execution_count": null,
   "id": "bfe776ec-b119-40d9-b4db-2a59db4060df",
   "metadata": {},
   "outputs": [],
   "source": []
  }
 ],
 "metadata": {
  "kernelspec": {
   "display_name": "Python 3",
   "language": "python",
   "name": "python3"
  },
  "language_info": {
   "codemirror_mode": {
    "name": "ipython",
    "version": 3
   },
   "file_extension": ".py",
   "mimetype": "text/x-python",
   "name": "python",
   "nbconvert_exporter": "python",
   "pygments_lexer": "ipython3",
   "version": "3.7.9"
  }
 },
 "nbformat": 4,
 "nbformat_minor": 5
}
